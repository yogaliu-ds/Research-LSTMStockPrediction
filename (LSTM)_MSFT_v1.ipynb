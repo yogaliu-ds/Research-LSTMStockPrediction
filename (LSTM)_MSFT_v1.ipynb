{
  "nbformat": 4,
  "nbformat_minor": 0,
  "metadata": {
    "colab": {
      "name": "(LSTM) MSFT.ipynb",
      "provenance": [],
      "authorship_tag": "ABX9TyMYklLAtLFheTNXBji7+Z8R",
      "include_colab_link": true
    },
    "kernelspec": {
      "name": "python3",
      "display_name": "Python 3"
    },
    "language_info": {
      "name": "python"
    },
    "widgets": {
      "application/vnd.jupyter.widget-state+json": {
        "7f6f765ea7b84621a45d3d7b46ad7c22": {
          "model_module": "@jupyter-widgets/controls",
          "model_name": "HBoxModel",
          "model_module_version": "1.5.0",
          "state": {
            "_dom_classes": [],
            "_model_module": "@jupyter-widgets/controls",
            "_model_module_version": "1.5.0",
            "_model_name": "HBoxModel",
            "_view_count": null,
            "_view_module": "@jupyter-widgets/controls",
            "_view_module_version": "1.5.0",
            "_view_name": "HBoxView",
            "box_style": "",
            "children": [
              "IPY_MODEL_4e1da6014e0f44c59f28755d637155dd",
              "IPY_MODEL_7e57add58e3c459997fe03d7a4b61475",
              "IPY_MODEL_d314b9179c324eb0b9ff745ce8fd73b8"
            ],
            "layout": "IPY_MODEL_fdcee700393c46c996ae312924b4d59a"
          }
        },
        "4e1da6014e0f44c59f28755d637155dd": {
          "model_module": "@jupyter-widgets/controls",
          "model_name": "HTMLModel",
          "model_module_version": "1.5.0",
          "state": {
            "_dom_classes": [],
            "_model_module": "@jupyter-widgets/controls",
            "_model_module_version": "1.5.0",
            "_model_name": "HTMLModel",
            "_view_count": null,
            "_view_module": "@jupyter-widgets/controls",
            "_view_module_version": "1.5.0",
            "_view_name": "HTMLView",
            "description": "",
            "description_tooltip": null,
            "layout": "IPY_MODEL_81e51ef75d704755ba352f526f72ce3c",
            "placeholder": "​",
            "style": "IPY_MODEL_446cdd2e39cf414d961da781b40da3a9",
            "value": "100%"
          }
        },
        "7e57add58e3c459997fe03d7a4b61475": {
          "model_module": "@jupyter-widgets/controls",
          "model_name": "FloatProgressModel",
          "model_module_version": "1.5.0",
          "state": {
            "_dom_classes": [],
            "_model_module": "@jupyter-widgets/controls",
            "_model_module_version": "1.5.0",
            "_model_name": "FloatProgressModel",
            "_view_count": null,
            "_view_module": "@jupyter-widgets/controls",
            "_view_module_version": "1.5.0",
            "_view_name": "ProgressView",
            "bar_style": "success",
            "description": "",
            "description_tooltip": null,
            "layout": "IPY_MODEL_f18ea4dc642841439df76fb647db1924",
            "max": 4970,
            "min": 0,
            "orientation": "horizontal",
            "style": "IPY_MODEL_3df34a651f1e43eaa9620dfef1014d86",
            "value": 4970
          }
        },
        "d314b9179c324eb0b9ff745ce8fd73b8": {
          "model_module": "@jupyter-widgets/controls",
          "model_name": "HTMLModel",
          "model_module_version": "1.5.0",
          "state": {
            "_dom_classes": [],
            "_model_module": "@jupyter-widgets/controls",
            "_model_module_version": "1.5.0",
            "_model_name": "HTMLModel",
            "_view_count": null,
            "_view_module": "@jupyter-widgets/controls",
            "_view_module_version": "1.5.0",
            "_view_name": "HTMLView",
            "description": "",
            "description_tooltip": null,
            "layout": "IPY_MODEL_d1ed2f26ddcb42fc9eb3593ae585efaa",
            "placeholder": "​",
            "style": "IPY_MODEL_13a0543207e748e4b94ead04f71beb6a",
            "value": " 4970/4970 [00:00&lt;00:00, 6760.31it/s]"
          }
        },
        "fdcee700393c46c996ae312924b4d59a": {
          "model_module": "@jupyter-widgets/base",
          "model_name": "LayoutModel",
          "model_module_version": "1.2.0",
          "state": {
            "_model_module": "@jupyter-widgets/base",
            "_model_module_version": "1.2.0",
            "_model_name": "LayoutModel",
            "_view_count": null,
            "_view_module": "@jupyter-widgets/base",
            "_view_module_version": "1.2.0",
            "_view_name": "LayoutView",
            "align_content": null,
            "align_items": null,
            "align_self": null,
            "border": null,
            "bottom": null,
            "display": null,
            "flex": null,
            "flex_flow": null,
            "grid_area": null,
            "grid_auto_columns": null,
            "grid_auto_flow": null,
            "grid_auto_rows": null,
            "grid_column": null,
            "grid_gap": null,
            "grid_row": null,
            "grid_template_areas": null,
            "grid_template_columns": null,
            "grid_template_rows": null,
            "height": null,
            "justify_content": null,
            "justify_items": null,
            "left": null,
            "margin": null,
            "max_height": null,
            "max_width": null,
            "min_height": null,
            "min_width": null,
            "object_fit": null,
            "object_position": null,
            "order": null,
            "overflow": null,
            "overflow_x": null,
            "overflow_y": null,
            "padding": null,
            "right": null,
            "top": null,
            "visibility": null,
            "width": null
          }
        },
        "81e51ef75d704755ba352f526f72ce3c": {
          "model_module": "@jupyter-widgets/base",
          "model_name": "LayoutModel",
          "model_module_version": "1.2.0",
          "state": {
            "_model_module": "@jupyter-widgets/base",
            "_model_module_version": "1.2.0",
            "_model_name": "LayoutModel",
            "_view_count": null,
            "_view_module": "@jupyter-widgets/base",
            "_view_module_version": "1.2.0",
            "_view_name": "LayoutView",
            "align_content": null,
            "align_items": null,
            "align_self": null,
            "border": null,
            "bottom": null,
            "display": null,
            "flex": null,
            "flex_flow": null,
            "grid_area": null,
            "grid_auto_columns": null,
            "grid_auto_flow": null,
            "grid_auto_rows": null,
            "grid_column": null,
            "grid_gap": null,
            "grid_row": null,
            "grid_template_areas": null,
            "grid_template_columns": null,
            "grid_template_rows": null,
            "height": null,
            "justify_content": null,
            "justify_items": null,
            "left": null,
            "margin": null,
            "max_height": null,
            "max_width": null,
            "min_height": null,
            "min_width": null,
            "object_fit": null,
            "object_position": null,
            "order": null,
            "overflow": null,
            "overflow_x": null,
            "overflow_y": null,
            "padding": null,
            "right": null,
            "top": null,
            "visibility": null,
            "width": null
          }
        },
        "446cdd2e39cf414d961da781b40da3a9": {
          "model_module": "@jupyter-widgets/controls",
          "model_name": "DescriptionStyleModel",
          "model_module_version": "1.5.0",
          "state": {
            "_model_module": "@jupyter-widgets/controls",
            "_model_module_version": "1.5.0",
            "_model_name": "DescriptionStyleModel",
            "_view_count": null,
            "_view_module": "@jupyter-widgets/base",
            "_view_module_version": "1.2.0",
            "_view_name": "StyleView",
            "description_width": ""
          }
        },
        "f18ea4dc642841439df76fb647db1924": {
          "model_module": "@jupyter-widgets/base",
          "model_name": "LayoutModel",
          "model_module_version": "1.2.0",
          "state": {
            "_model_module": "@jupyter-widgets/base",
            "_model_module_version": "1.2.0",
            "_model_name": "LayoutModel",
            "_view_count": null,
            "_view_module": "@jupyter-widgets/base",
            "_view_module_version": "1.2.0",
            "_view_name": "LayoutView",
            "align_content": null,
            "align_items": null,
            "align_self": null,
            "border": null,
            "bottom": null,
            "display": null,
            "flex": null,
            "flex_flow": null,
            "grid_area": null,
            "grid_auto_columns": null,
            "grid_auto_flow": null,
            "grid_auto_rows": null,
            "grid_column": null,
            "grid_gap": null,
            "grid_row": null,
            "grid_template_areas": null,
            "grid_template_columns": null,
            "grid_template_rows": null,
            "height": null,
            "justify_content": null,
            "justify_items": null,
            "left": null,
            "margin": null,
            "max_height": null,
            "max_width": null,
            "min_height": null,
            "min_width": null,
            "object_fit": null,
            "object_position": null,
            "order": null,
            "overflow": null,
            "overflow_x": null,
            "overflow_y": null,
            "padding": null,
            "right": null,
            "top": null,
            "visibility": null,
            "width": null
          }
        },
        "3df34a651f1e43eaa9620dfef1014d86": {
          "model_module": "@jupyter-widgets/controls",
          "model_name": "ProgressStyleModel",
          "model_module_version": "1.5.0",
          "state": {
            "_model_module": "@jupyter-widgets/controls",
            "_model_module_version": "1.5.0",
            "_model_name": "ProgressStyleModel",
            "_view_count": null,
            "_view_module": "@jupyter-widgets/base",
            "_view_module_version": "1.2.0",
            "_view_name": "StyleView",
            "bar_color": null,
            "description_width": ""
          }
        },
        "d1ed2f26ddcb42fc9eb3593ae585efaa": {
          "model_module": "@jupyter-widgets/base",
          "model_name": "LayoutModel",
          "model_module_version": "1.2.0",
          "state": {
            "_model_module": "@jupyter-widgets/base",
            "_model_module_version": "1.2.0",
            "_model_name": "LayoutModel",
            "_view_count": null,
            "_view_module": "@jupyter-widgets/base",
            "_view_module_version": "1.2.0",
            "_view_name": "LayoutView",
            "align_content": null,
            "align_items": null,
            "align_self": null,
            "border": null,
            "bottom": null,
            "display": null,
            "flex": null,
            "flex_flow": null,
            "grid_area": null,
            "grid_auto_columns": null,
            "grid_auto_flow": null,
            "grid_auto_rows": null,
            "grid_column": null,
            "grid_gap": null,
            "grid_row": null,
            "grid_template_areas": null,
            "grid_template_columns": null,
            "grid_template_rows": null,
            "height": null,
            "justify_content": null,
            "justify_items": null,
            "left": null,
            "margin": null,
            "max_height": null,
            "max_width": null,
            "min_height": null,
            "min_width": null,
            "object_fit": null,
            "object_position": null,
            "order": null,
            "overflow": null,
            "overflow_x": null,
            "overflow_y": null,
            "padding": null,
            "right": null,
            "top": null,
            "visibility": null,
            "width": null
          }
        },
        "13a0543207e748e4b94ead04f71beb6a": {
          "model_module": "@jupyter-widgets/controls",
          "model_name": "DescriptionStyleModel",
          "model_module_version": "1.5.0",
          "state": {
            "_model_module": "@jupyter-widgets/controls",
            "_model_module_version": "1.5.0",
            "_model_name": "DescriptionStyleModel",
            "_view_count": null,
            "_view_module": "@jupyter-widgets/base",
            "_view_module_version": "1.2.0",
            "_view_name": "StyleView",
            "description_width": ""
          }
        }
      }
    }
  },
  "cells": [
    {
      "cell_type": "markdown",
      "metadata": {
        "id": "view-in-github",
        "colab_type": "text"
      },
      "source": [
        "<a href=\"https://colab.research.google.com/github/yogaliu-ds/LSTM/blob/main/(LSTM)_MSFT.ipynb\" target=\"_parent\"><img src=\"https://colab.research.google.com/assets/colab-badge.svg\" alt=\"Open In Colab\"/></a>"
      ]
    },
    {
      "cell_type": "markdown",
      "source": [
        "# 1. Preprocessing"
      ],
      "metadata": {
        "id": "986yY1plTN8O"
      }
    },
    {
      "cell_type": "code",
      "source": [
        "!pip install yfinance"
      ],
      "metadata": {
        "id": "joRIezt8fiLW",
        "colab": {
          "base_uri": "https://localhost:8080/"
        },
        "outputId": "6ae69712-2cd8-4d52-98e1-6faaacbfcdfb"
      },
      "execution_count": 1,
      "outputs": [
        {
          "output_type": "stream",
          "name": "stdout",
          "text": [
            "Looking in indexes: https://pypi.org/simple, https://us-python.pkg.dev/colab-wheels/public/simple/\n",
            "Collecting yfinance\n",
            "  Downloading yfinance-0.1.74-py2.py3-none-any.whl (27 kB)\n",
            "Collecting lxml>=4.5.1\n",
            "  Downloading lxml-4.9.1-cp37-cp37m-manylinux_2_17_x86_64.manylinux2014_x86_64.manylinux_2_24_x86_64.whl (6.4 MB)\n",
            "\u001b[K     |████████████████████████████████| 6.4 MB 31.9 MB/s \n",
            "\u001b[?25hCollecting requests>=2.26\n",
            "  Downloading requests-2.28.1-py3-none-any.whl (62 kB)\n",
            "\u001b[K     |████████████████████████████████| 62 kB 1.5 MB/s \n",
            "\u001b[?25hRequirement already satisfied: numpy>=1.15 in /usr/local/lib/python3.7/dist-packages (from yfinance) (1.21.6)\n",
            "Requirement already satisfied: pandas>=0.24.0 in /usr/local/lib/python3.7/dist-packages (from yfinance) (1.3.5)\n",
            "Requirement already satisfied: multitasking>=0.0.7 in /usr/local/lib/python3.7/dist-packages (from yfinance) (0.0.11)\n",
            "Requirement already satisfied: python-dateutil>=2.7.3 in /usr/local/lib/python3.7/dist-packages (from pandas>=0.24.0->yfinance) (2.8.2)\n",
            "Requirement already satisfied: pytz>=2017.3 in /usr/local/lib/python3.7/dist-packages (from pandas>=0.24.0->yfinance) (2022.1)\n",
            "Requirement already satisfied: six>=1.5 in /usr/local/lib/python3.7/dist-packages (from python-dateutil>=2.7.3->pandas>=0.24.0->yfinance) (1.15.0)\n",
            "Requirement already satisfied: charset-normalizer<3,>=2 in /usr/local/lib/python3.7/dist-packages (from requests>=2.26->yfinance) (2.1.0)\n",
            "Requirement already satisfied: urllib3<1.27,>=1.21.1 in /usr/local/lib/python3.7/dist-packages (from requests>=2.26->yfinance) (1.24.3)\n",
            "Requirement already satisfied: certifi>=2017.4.17 in /usr/local/lib/python3.7/dist-packages (from requests>=2.26->yfinance) (2022.6.15)\n",
            "Requirement already satisfied: idna<4,>=2.5 in /usr/local/lib/python3.7/dist-packages (from requests>=2.26->yfinance) (2.10)\n",
            "Installing collected packages: requests, lxml, yfinance\n",
            "  Attempting uninstall: requests\n",
            "    Found existing installation: requests 2.23.0\n",
            "    Uninstalling requests-2.23.0:\n",
            "      Successfully uninstalled requests-2.23.0\n",
            "  Attempting uninstall: lxml\n",
            "    Found existing installation: lxml 4.2.6\n",
            "    Uninstalling lxml-4.2.6:\n",
            "      Successfully uninstalled lxml-4.2.6\n",
            "\u001b[31mERROR: pip's dependency resolver does not currently take into account all the packages that are installed. This behaviour is the source of the following dependency conflicts.\n",
            "google-colab 1.0.0 requires requests~=2.23.0, but you have requests 2.28.1 which is incompatible.\n",
            "datascience 0.10.6 requires folium==0.2.1, but you have folium 0.8.3 which is incompatible.\u001b[0m\n",
            "Successfully installed lxml-4.9.1 requests-2.28.1 yfinance-0.1.74\n"
          ]
        }
      ]
    },
    {
      "cell_type": "code",
      "execution_count": 2,
      "metadata": {
        "id": "QEHYwqqknsyG"
      },
      "outputs": [],
      "source": [
        "# Basic\n",
        "import pandas as pd\n",
        "import numpy as np\n",
        "import matplotlib.pyplot as plt\n",
        "\n",
        "# Model\n",
        "from tensorflow.keras.models import Sequential\n",
        "from tensorflow.keras.layers import Dense, LSTM, Flatten\n",
        "from tensorflow.keras.optimizers import Adam\n",
        "\n",
        "# Others\n",
        "import yfinance as yf\n",
        "\n"
      ]
    },
    {
      "cell_type": "code",
      "source": [
        "# 1.1 API, get the data\n",
        "df = yf.Ticker('MSFT').history(period='Max')\n",
        "\n",
        "# only get part of the samples\n",
        "df = df.iloc[:5000]\n",
        "\n",
        "# Check it out\n",
        "print(df.shape)\n",
        "print(df.head())\n",
        "print(df.tail())\n"
      ],
      "metadata": {
        "colab": {
          "base_uri": "https://localhost:8080/"
        },
        "id": "-Bh_usRoqPs2",
        "outputId": "f6169b2c-fcca-4f96-c963-56271b528d56"
      },
      "execution_count": 3,
      "outputs": [
        {
          "output_type": "stream",
          "name": "stdout",
          "text": [
            "(5000, 7)\n",
            "                Open      High       Low     Close      Volume  Dividends  \\\n",
            "Date                                                                        \n",
            "1986-03-13  0.055654  0.063838  0.055654  0.061109  1031788800        0.0   \n",
            "1986-03-14  0.061109  0.064383  0.061109  0.063292   308160000        0.0   \n",
            "1986-03-17  0.063292  0.064929  0.063292  0.064383   133171200        0.0   \n",
            "1986-03-18  0.064383  0.064929  0.062201  0.062746    67766400        0.0   \n",
            "1986-03-19  0.062746  0.063292  0.061109  0.061655    47894400        0.0   \n",
            "\n",
            "            Stock Splits  \n",
            "Date                      \n",
            "1986-03-13           0.0  \n",
            "1986-03-14           0.0  \n",
            "1986-03-17           0.0  \n",
            "1986-03-18           0.0  \n",
            "1986-03-19           0.0  \n",
            "                 Open       High        Low      Close    Volume  Dividends  \\\n",
            "Date                                                                          \n",
            "2005-12-28  19.020543  19.128166  18.905746  18.934444  35444400        0.0   \n",
            "2005-12-29  18.948790  19.013364  18.841168  18.848343  34495500        0.0   \n",
            "2005-12-30  18.762241  18.877039  18.726368  18.762241  49044600        0.0   \n",
            "2006-01-03  18.833989  19.372103  18.726366  19.257305  79973000        0.0   \n",
            "2006-01-04  19.207086  19.429506  19.207086  19.350582  57975600        0.0   \n",
            "\n",
            "            Stock Splits  \n",
            "Date                      \n",
            "2005-12-28           0.0  \n",
            "2005-12-29           0.0  \n",
            "2005-12-30           0.0  \n",
            "2006-01-03           0.0  \n",
            "2006-01-04           0.0  \n"
          ]
        }
      ]
    },
    {
      "cell_type": "code",
      "source": [
        "# 1.2 MinMaxScaler\n",
        "from sklearn.preprocessing import MinMaxScaler\n",
        "scaler = MinMaxScaler()\n",
        "df_normed = pd.DataFrame(scaler.fit_transform(df), columns=df.columns, index = df.index)\n",
        "df_normed"
      ],
      "metadata": {
        "colab": {
          "base_uri": "https://localhost:8080/",
          "height": 537
        },
        "id": "-3FwS1iX3KjT",
        "outputId": "5455b54d-210c-45bb-8bea-7a3817490b58"
      },
      "execution_count": 4,
      "outputs": [
        {
          "output_type": "execute_result",
          "data": {
            "text/plain": [
              "                Open      High       Low     Close    Volume  Dividends  \\\n",
              "Date                                                                      \n",
              "1986-03-13  0.000000  0.000159  0.000000  0.000117  1.000000        0.0   \n",
              "1986-03-14  0.000146  0.000174  0.000148  0.000175  0.297096        0.0   \n",
              "1986-03-17  0.000205  0.000188  0.000208  0.000204  0.127119        0.0   \n",
              "1986-03-18  0.000234  0.000188  0.000178  0.000161  0.063588        0.0   \n",
              "1986-03-19  0.000190  0.000145  0.000148  0.000131  0.044285        0.0   \n",
              "...              ...       ...       ...       ...       ...        ...   \n",
              "2005-12-28  0.508923  0.506707  0.512871  0.505000  0.032191        0.0   \n",
              "2005-12-29  0.506997  0.503657  0.511114  0.502697  0.031270        0.0   \n",
              "2005-12-30  0.501991  0.500034  0.507990  0.500394  0.045402        0.0   \n",
              "2006-01-03  0.503916  0.513188  0.507990  0.513637  0.075445        0.0   \n",
              "2006-01-04  0.513928  0.514714  0.521069  0.516133  0.054077        0.0   \n",
              "\n",
              "            Stock Splits  \n",
              "Date                      \n",
              "1986-03-13           0.0  \n",
              "1986-03-14           0.0  \n",
              "1986-03-17           0.0  \n",
              "1986-03-18           0.0  \n",
              "1986-03-19           0.0  \n",
              "...                  ...  \n",
              "2005-12-28           0.0  \n",
              "2005-12-29           0.0  \n",
              "2005-12-30           0.0  \n",
              "2006-01-03           0.0  \n",
              "2006-01-04           0.0  \n",
              "\n",
              "[5000 rows x 7 columns]"
            ],
            "text/html": [
              "\n",
              "  <div id=\"df-b5c8f3d6-3d79-44e3-a139-35d2dba6264a\">\n",
              "    <div class=\"colab-df-container\">\n",
              "      <div>\n",
              "<style scoped>\n",
              "    .dataframe tbody tr th:only-of-type {\n",
              "        vertical-align: middle;\n",
              "    }\n",
              "\n",
              "    .dataframe tbody tr th {\n",
              "        vertical-align: top;\n",
              "    }\n",
              "\n",
              "    .dataframe thead th {\n",
              "        text-align: right;\n",
              "    }\n",
              "</style>\n",
              "<table border=\"1\" class=\"dataframe\">\n",
              "  <thead>\n",
              "    <tr style=\"text-align: right;\">\n",
              "      <th></th>\n",
              "      <th>Open</th>\n",
              "      <th>High</th>\n",
              "      <th>Low</th>\n",
              "      <th>Close</th>\n",
              "      <th>Volume</th>\n",
              "      <th>Dividends</th>\n",
              "      <th>Stock Splits</th>\n",
              "    </tr>\n",
              "    <tr>\n",
              "      <th>Date</th>\n",
              "      <th></th>\n",
              "      <th></th>\n",
              "      <th></th>\n",
              "      <th></th>\n",
              "      <th></th>\n",
              "      <th></th>\n",
              "      <th></th>\n",
              "    </tr>\n",
              "  </thead>\n",
              "  <tbody>\n",
              "    <tr>\n",
              "      <th>1986-03-13</th>\n",
              "      <td>0.000000</td>\n",
              "      <td>0.000159</td>\n",
              "      <td>0.000000</td>\n",
              "      <td>0.000117</td>\n",
              "      <td>1.000000</td>\n",
              "      <td>0.0</td>\n",
              "      <td>0.0</td>\n",
              "    </tr>\n",
              "    <tr>\n",
              "      <th>1986-03-14</th>\n",
              "      <td>0.000146</td>\n",
              "      <td>0.000174</td>\n",
              "      <td>0.000148</td>\n",
              "      <td>0.000175</td>\n",
              "      <td>0.297096</td>\n",
              "      <td>0.0</td>\n",
              "      <td>0.0</td>\n",
              "    </tr>\n",
              "    <tr>\n",
              "      <th>1986-03-17</th>\n",
              "      <td>0.000205</td>\n",
              "      <td>0.000188</td>\n",
              "      <td>0.000208</td>\n",
              "      <td>0.000204</td>\n",
              "      <td>0.127119</td>\n",
              "      <td>0.0</td>\n",
              "      <td>0.0</td>\n",
              "    </tr>\n",
              "    <tr>\n",
              "      <th>1986-03-18</th>\n",
              "      <td>0.000234</td>\n",
              "      <td>0.000188</td>\n",
              "      <td>0.000178</td>\n",
              "      <td>0.000161</td>\n",
              "      <td>0.063588</td>\n",
              "      <td>0.0</td>\n",
              "      <td>0.0</td>\n",
              "    </tr>\n",
              "    <tr>\n",
              "      <th>1986-03-19</th>\n",
              "      <td>0.000190</td>\n",
              "      <td>0.000145</td>\n",
              "      <td>0.000148</td>\n",
              "      <td>0.000131</td>\n",
              "      <td>0.044285</td>\n",
              "      <td>0.0</td>\n",
              "      <td>0.0</td>\n",
              "    </tr>\n",
              "    <tr>\n",
              "      <th>...</th>\n",
              "      <td>...</td>\n",
              "      <td>...</td>\n",
              "      <td>...</td>\n",
              "      <td>...</td>\n",
              "      <td>...</td>\n",
              "      <td>...</td>\n",
              "      <td>...</td>\n",
              "    </tr>\n",
              "    <tr>\n",
              "      <th>2005-12-28</th>\n",
              "      <td>0.508923</td>\n",
              "      <td>0.506707</td>\n",
              "      <td>0.512871</td>\n",
              "      <td>0.505000</td>\n",
              "      <td>0.032191</td>\n",
              "      <td>0.0</td>\n",
              "      <td>0.0</td>\n",
              "    </tr>\n",
              "    <tr>\n",
              "      <th>2005-12-29</th>\n",
              "      <td>0.506997</td>\n",
              "      <td>0.503657</td>\n",
              "      <td>0.511114</td>\n",
              "      <td>0.502697</td>\n",
              "      <td>0.031270</td>\n",
              "      <td>0.0</td>\n",
              "      <td>0.0</td>\n",
              "    </tr>\n",
              "    <tr>\n",
              "      <th>2005-12-30</th>\n",
              "      <td>0.501991</td>\n",
              "      <td>0.500034</td>\n",
              "      <td>0.507990</td>\n",
              "      <td>0.500394</td>\n",
              "      <td>0.045402</td>\n",
              "      <td>0.0</td>\n",
              "      <td>0.0</td>\n",
              "    </tr>\n",
              "    <tr>\n",
              "      <th>2006-01-03</th>\n",
              "      <td>0.503916</td>\n",
              "      <td>0.513188</td>\n",
              "      <td>0.507990</td>\n",
              "      <td>0.513637</td>\n",
              "      <td>0.075445</td>\n",
              "      <td>0.0</td>\n",
              "      <td>0.0</td>\n",
              "    </tr>\n",
              "    <tr>\n",
              "      <th>2006-01-04</th>\n",
              "      <td>0.513928</td>\n",
              "      <td>0.514714</td>\n",
              "      <td>0.521069</td>\n",
              "      <td>0.516133</td>\n",
              "      <td>0.054077</td>\n",
              "      <td>0.0</td>\n",
              "      <td>0.0</td>\n",
              "    </tr>\n",
              "  </tbody>\n",
              "</table>\n",
              "<p>5000 rows × 7 columns</p>\n",
              "</div>\n",
              "      <button class=\"colab-df-convert\" onclick=\"convertToInteractive('df-b5c8f3d6-3d79-44e3-a139-35d2dba6264a')\"\n",
              "              title=\"Convert this dataframe to an interactive table.\"\n",
              "              style=\"display:none;\">\n",
              "        \n",
              "  <svg xmlns=\"http://www.w3.org/2000/svg\" height=\"24px\"viewBox=\"0 0 24 24\"\n",
              "       width=\"24px\">\n",
              "    <path d=\"M0 0h24v24H0V0z\" fill=\"none\"/>\n",
              "    <path d=\"M18.56 5.44l.94 2.06.94-2.06 2.06-.94-2.06-.94-.94-2.06-.94 2.06-2.06.94zm-11 1L8.5 8.5l.94-2.06 2.06-.94-2.06-.94L8.5 2.5l-.94 2.06-2.06.94zm10 10l.94 2.06.94-2.06 2.06-.94-2.06-.94-.94-2.06-.94 2.06-2.06.94z\"/><path d=\"M17.41 7.96l-1.37-1.37c-.4-.4-.92-.59-1.43-.59-.52 0-1.04.2-1.43.59L10.3 9.45l-7.72 7.72c-.78.78-.78 2.05 0 2.83L4 21.41c.39.39.9.59 1.41.59.51 0 1.02-.2 1.41-.59l7.78-7.78 2.81-2.81c.8-.78.8-2.07 0-2.86zM5.41 20L4 18.59l7.72-7.72 1.47 1.35L5.41 20z\"/>\n",
              "  </svg>\n",
              "      </button>\n",
              "      \n",
              "  <style>\n",
              "    .colab-df-container {\n",
              "      display:flex;\n",
              "      flex-wrap:wrap;\n",
              "      gap: 12px;\n",
              "    }\n",
              "\n",
              "    .colab-df-convert {\n",
              "      background-color: #E8F0FE;\n",
              "      border: none;\n",
              "      border-radius: 50%;\n",
              "      cursor: pointer;\n",
              "      display: none;\n",
              "      fill: #1967D2;\n",
              "      height: 32px;\n",
              "      padding: 0 0 0 0;\n",
              "      width: 32px;\n",
              "    }\n",
              "\n",
              "    .colab-df-convert:hover {\n",
              "      background-color: #E2EBFA;\n",
              "      box-shadow: 0px 1px 2px rgba(60, 64, 67, 0.3), 0px 1px 3px 1px rgba(60, 64, 67, 0.15);\n",
              "      fill: #174EA6;\n",
              "    }\n",
              "\n",
              "    [theme=dark] .colab-df-convert {\n",
              "      background-color: #3B4455;\n",
              "      fill: #D2E3FC;\n",
              "    }\n",
              "\n",
              "    [theme=dark] .colab-df-convert:hover {\n",
              "      background-color: #434B5C;\n",
              "      box-shadow: 0px 1px 3px 1px rgba(0, 0, 0, 0.15);\n",
              "      filter: drop-shadow(0px 1px 2px rgba(0, 0, 0, 0.3));\n",
              "      fill: #FFFFFF;\n",
              "    }\n",
              "  </style>\n",
              "\n",
              "      <script>\n",
              "        const buttonEl =\n",
              "          document.querySelector('#df-b5c8f3d6-3d79-44e3-a139-35d2dba6264a button.colab-df-convert');\n",
              "        buttonEl.style.display =\n",
              "          google.colab.kernel.accessAllowed ? 'block' : 'none';\n",
              "\n",
              "        async function convertToInteractive(key) {\n",
              "          const element = document.querySelector('#df-b5c8f3d6-3d79-44e3-a139-35d2dba6264a');\n",
              "          const dataTable =\n",
              "            await google.colab.kernel.invokeFunction('convertToInteractive',\n",
              "                                                     [key], {});\n",
              "          if (!dataTable) return;\n",
              "\n",
              "          const docLinkHtml = 'Like what you see? Visit the ' +\n",
              "            '<a target=\"_blank\" href=https://colab.research.google.com/notebooks/data_table.ipynb>data table notebook</a>'\n",
              "            + ' to learn more about interactive tables.';\n",
              "          element.innerHTML = '';\n",
              "          dataTable['output_type'] = 'display_data';\n",
              "          await google.colab.output.renderOutput(dataTable, element);\n",
              "          const docLink = document.createElement('div');\n",
              "          docLink.innerHTML = docLinkHtml;\n",
              "          element.appendChild(docLink);\n",
              "        }\n",
              "      </script>\n",
              "    </div>\n",
              "  </div>\n",
              "  "
            ]
          },
          "metadata": {},
          "execution_count": 4
        }
      ]
    },
    {
      "cell_type": "code",
      "source": [
        "# 1.3 Transform the data into 3d\n",
        "\n",
        "import tqdm\n",
        "n = 30\n",
        "feature_names = list(df_normed.drop('Close', axis =1).columns)\n",
        "\n",
        "X=[]\n",
        "y=[]\n",
        "indexes=[]\n",
        "norm_data_x = df_normed[feature_names]\n",
        "\n",
        "for i in tqdm.tqdm_notebook(range(0, len(df_normed)-n)):\n",
        "  X.append(norm_data_x.iloc[i:i+n].values)\n",
        "  y.append(df_normed['Close'].iloc[i+n-1])\n",
        "  indexes.append(df_normed.index[i+n-1])\n"
      ],
      "metadata": {
        "colab": {
          "base_uri": "https://localhost:8080/",
          "height": 179,
          "referenced_widgets": [
            "7f6f765ea7b84621a45d3d7b46ad7c22",
            "4e1da6014e0f44c59f28755d637155dd",
            "7e57add58e3c459997fe03d7a4b61475",
            "d314b9179c324eb0b9ff745ce8fd73b8",
            "fdcee700393c46c996ae312924b4d59a",
            "81e51ef75d704755ba352f526f72ce3c",
            "446cdd2e39cf414d961da781b40da3a9",
            "f18ea4dc642841439df76fb647db1924",
            "3df34a651f1e43eaa9620dfef1014d86",
            "d1ed2f26ddcb42fc9eb3593ae585efaa",
            "13a0543207e748e4b94ead04f71beb6a"
          ]
        },
        "id": "4x-Ge8Ubwdrf",
        "outputId": "d7ece50c-28b1-4783-b17e-972e52c35fad"
      },
      "execution_count": 5,
      "outputs": [
        {
          "output_type": "stream",
          "name": "stderr",
          "text": [
            "/usr/local/lib/python3.7/dist-packages/ipykernel_launcher.py:12: TqdmDeprecationWarning: This function will be removed in tqdm==5.0.0\n",
            "Please use `tqdm.notebook.tqdm` instead of `tqdm.tqdm_notebook`\n",
            "  if sys.path[0] == '':\n"
          ]
        },
        {
          "output_type": "display_data",
          "data": {
            "text/plain": [
              "  0%|          | 0/4970 [00:00<?, ?it/s]"
            ],
            "application/vnd.jupyter.widget-view+json": {
              "version_major": 2,
              "version_minor": 0,
              "model_id": "7f6f765ea7b84621a45d3d7b46ad7c22"
            }
          },
          "metadata": {}
        }
      ]
    },
    {
      "cell_type": "code",
      "source": [
        "# 30 days info and 1 prediction\n",
        "print(X[0])\n",
        "print(y[0])\n",
        "print(indexes[0])\n",
        "\n",
        "\n",
        "plt.plot(y)\n",
        "plt.show()"
      ],
      "metadata": {
        "colab": {
          "base_uri": "https://localhost:8080/",
          "height": 1000
        },
        "id": "sF-ehlpIzEVg",
        "outputId": "9d7d6142-b0f1-4447-febc-ebe1478e17a6"
      },
      "execution_count": 6,
      "outputs": [
        {
          "output_type": "stream",
          "name": "stdout",
          "text": [
            "[[0.00000000e+00 1.59477205e-04 0.00000000e+00 1.00000000e+00\n",
            "  0.00000000e+00 0.00000000e+00]\n",
            " [1.46407451e-04 1.73973228e-04 1.48441766e-04 2.97096179e-01\n",
            "  0.00000000e+00 0.00000000e+00]\n",
            " [2.04970629e-04 1.88469725e-04 2.07818673e-04 1.27119118e-01\n",
            "  0.00000000e+00 0.00000000e+00]\n",
            " [2.34268424e-04 1.88469115e-04 1.78129645e-04 6.35875343e-02\n",
            "  0.00000000e+00 0.00000000e+00]\n",
            " [1.90329552e-04 1.44963413e-04 1.48441523e-04 4.42846752e-02\n",
            "  0.00000000e+00 0.00000000e+00]\n",
            " [1.61048764e-04 1.01474841e-04 1.03909642e-04 5.45235831e-02\n",
            "  0.00000000e+00 0.00000000e+00]\n",
            " [1.17126683e-04 8.69786705e-05 4.45330353e-05 5.60342416e-02\n",
            "  0.00000000e+00 0.00000000e+00]\n",
            " [7.32044986e-05 1.44965791e-05 1.48447724e-05 6.11816707e-02\n",
            "  0.00000000e+00 0.00000000e+00]\n",
            " [2.92820029e-05 0.00000000e+00 1.48446507e-05 2.89263134e-02\n",
            "  0.00000000e+00 0.00000000e+00]\n",
            " [5.85629206e-05 5.79851411e-05 4.45324298e-05 1.98623622e-02\n",
            "  0.00000000e+00 0.00000000e+00]\n",
            " [1.02485461e-04 7.24817797e-05 1.03909485e-04 1.41274548e-02\n",
            "  0.00000000e+00 0.00000000e+00]\n",
            " [1.31767190e-04 7.24819356e-05 8.90654222e-05 1.02668830e-02\n",
            "  0.00000000e+00 0.00000000e+00]\n",
            " [1.17126057e-04 5.79851411e-05 1.03909294e-04 8.53242321e-03\n",
            "  0.00000000e+00 0.00000000e+00]\n",
            " [1.02485615e-04 8.69783881e-05 1.03909642e-04 2.40026856e-02\n",
            "  0.00000000e+00 0.00000000e+00]\n",
            " [1.31767032e-04 1.15971133e-04 1.33597921e-04 2.01421138e-02\n",
            "  0.00000000e+00 0.00000000e+00]\n",
            " [1.31767032e-04 8.69782308e-05 1.33597921e-04 2.35830582e-02\n",
            "  0.00000000e+00 0.00000000e+00]\n",
            " [1.31766841e-04 8.69780398e-05 7.42208621e-05 1.38477032e-02\n",
            "  0.00000000e+00 0.00000000e+00]\n",
            " [1.02485615e-04 8.69783881e-05 1.03909642e-04 7.72114362e-03\n",
            "  0.00000000e+00 0.00000000e+00]\n",
            " [1.17126289e-04 1.01474726e-04 1.18753746e-04 9.56750406e-03\n",
            "  0.00000000e+00 0.00000000e+00]\n",
            " [1.46407211e-04 1.15970522e-04 1.18753099e-04 1.12460135e-02\n",
            "  0.00000000e+00 0.00000000e+00]\n",
            " [1.75688473e-04 1.59476229e-04 1.78129645e-04 1.44911319e-02\n",
            "  0.00000000e+00 0.00000000e+00]\n",
            " [1.90329798e-04 1.59476780e-04 1.92974410e-04 9.56750406e-03\n",
            "  0.00000000e+00 0.00000000e+00]\n",
            " [2.04970581e-04 1.44963658e-04 1.48441766e-04 6.79796341e-03\n",
            "  0.00000000e+00 0.00000000e+00]\n",
            " [2.04971106e-04 2.17463114e-04 1.92974938e-04 2.87584625e-02\n",
            "  0.00000000e+00 0.00000000e+00]\n",
            " [2.63551235e-04 2.17463255e-04 2.67213251e-04 1.91350081e-02\n",
            "  0.00000000e+00 0.00000000e+00]\n",
            " [2.78191645e-04 2.17462880e-04 2.07818928e-04 1.87713311e-02\n",
            "  0.00000000e+00 0.00000000e+00]\n",
            " [2.19628505e-04 1.73973529e-04 1.78130493e-04 2.00302132e-02\n",
            "  0.00000000e+00 0.00000000e+00]\n",
            " [2.19627646e-04 1.59476229e-04 1.92973855e-04 1.28685727e-02\n",
            "  0.00000000e+00 0.00000000e+00]\n",
            " [1.90330186e-04 1.44964045e-04 1.78130585e-04 1.29245230e-02\n",
            "  0.00000000e+00 0.00000000e+00]\n",
            " [1.97650102e-04 3.33434128e-04 1.92974385e-04 5.83282046e-02\n",
            "  0.00000000e+00 0.00000000e+00]]\n",
            "0.0003357019488547941\n",
            "1986-04-24 00:00:00\n"
          ]
        },
        {
          "output_type": "display_data",
          "data": {
            "text/plain": [
              "<Figure size 432x288 with 1 Axes>"
            ],
            "image/png": "[encoded data removed]"
          },
          "metadata": {
            "needs_background": "light"
          }
        }
      ]
    },
    {
      "cell_type": "code",
      "source": [
        "# Transform into np.array\n",
        "\n",
        "X=np.array(X)\n",
        "y = np.array(y)\n",
        "\n",
        "print(X.shape)\n",
        "print(y.shape)\n"
      ],
      "metadata": {
        "colab": {
          "base_uri": "https://localhost:8080/"
        },
        "id": "mVJjpOc0znzu",
        "outputId": "635a8c52-412f-434e-dc58-0ca921370954"
      },
      "execution_count": 7,
      "outputs": [
        {
          "output_type": "stream",
          "name": "stdout",
          "text": [
            "(4970, 30, 6)\n",
            "(4970,)\n"
          ]
        }
      ]
    },
    {
      "cell_type": "code",
      "source": [
        "# Train, val split\n",
        "\n",
        "sample_size = X.shape[0]\n",
        "\n",
        "X_train = X[:int(sample_size*0.9)]\n",
        "X_val = X[int(sample_size*0.1):]\n",
        "\n",
        "y_train = y[:int(sample_size*0.9)]\n",
        "y_val = y[int(sample_size*0.1):]"
      ],
      "metadata": {
        "id": "9fuLjX9M0BCr"
      },
      "execution_count": 8,
      "outputs": []
    },
    {
      "cell_type": "markdown",
      "source": [
        "# 2. Model"
      ],
      "metadata": {
        "id": "22RJsUX0S-K-"
      }
    },
    {
      "cell_type": "code",
      "source": [
        "# Build LSTM\n",
        "n_steps = 30\n",
        "n_features = df.shape[1] -1\n",
        "\n",
        "\n",
        "model = Sequential()\n",
        "model.add(LSTM(30, return_sequences=False, batch_input_shape= (None, n_steps, n_features)))\n",
        "# model.add(Flatten())\n",
        "# model.add(Dense(14))\n",
        "model.add(Dense(5))\n",
        "model.add(Dense(1))\n",
        "\n",
        "adam = Adam(learning_rate = 0.1)\n",
        "model.compile(optimizer=adam, loss='mse', metrics = ['mse', 'mae'])\n",
        "model.summary()"
      ],
      "metadata": {
        "id": "mR8FBQ90pByC",
        "colab": {
          "base_uri": "https://localhost:8080/"
        },
        "outputId": "6e454649-ac1b-4993-b1ac-540d7af0ffab"
      },
      "execution_count": 9,
      "outputs": [
        {
          "output_type": "stream",
          "name": "stdout",
          "text": [
            "Model: \"sequential\"\n",
            "_________________________________________________________________\n",
            " Layer (type)                Output Shape              Param #   \n",
            "=================================================================\n",
            " lstm (LSTM)                 (None, 30)                4440      \n",
            "                                                                 \n",
            " dense (Dense)               (None, 5)                 155       \n",
            "                                                                 \n",
            " dense_1 (Dense)             (None, 1)                 6         \n",
            "                                                                 \n",
            "=================================================================\n",
            "Total params: 4,601\n",
            "Trainable params: 4,601\n",
            "Non-trainable params: 0\n",
            "_________________________________________________________________\n"
          ]
        }
      ]
    },
    {
      "cell_type": "code",
      "source": [
        "# Model fit and Predict\n",
        "history = model.fit(X_train, y_train, batch_size=128, epochs=10, verbose=0)\n",
        "train_pred = model.predict(X_train)\n"
      ],
      "metadata": {
        "id": "gz1iNI6I3Y-9"
      },
      "execution_count": 10,
      "outputs": []
    },
    {
      "cell_type": "code",
      "source": [
        "# Evaluate the loss (by metrics)\n",
        "\n",
        "plt.plot(history.history['mse'])\n",
        "plt.plot(history.history['mae'])\n",
        "plt.show()"
      ],
      "metadata": {
        "id": "zKssbH1pvuSu",
        "colab": {
          "base_uri": "https://localhost:8080/",
          "height": 269
        },
        "outputId": "e44e2c95-5d7e-4c4f-c387-8206117467d5"
      },
      "execution_count": 11,
      "outputs": [
        {
          "output_type": "display_data",
          "data": {
            "text/plain": [
              "<Figure size 432x288 with 1 Axes>"
            ],
            "image/png": "[encoded data removed]"
          },
          "metadata": {
            "needs_background": "light"
          }
        }
      ]
    },
    {
      "cell_type": "code",
      "source": [
        "# Evaluate the loss (by loss)\n",
        "result = model.evaluate(X_train, y_train, batch_size = 64)\n",
        "print(result)"
      ],
      "metadata": {
        "id": "VvUt_Cd_0NJU",
        "colab": {
          "base_uri": "https://localhost:8080/"
        },
        "outputId": "66f930cb-0ee6-42b1-f9df-64218d503f1e"
      },
      "execution_count": 12,
      "outputs": [
        {
          "output_type": "stream",
          "name": "stdout",
          "text": [
            "70/70 [==============================] - 2s 8ms/step - loss: 2.7588e-05 - mse: 2.7588e-05 - mae: 0.0030\n",
            "[2.7587899239733815e-05, 2.7587899239733815e-05, 0.003040899056941271]\n"
          ]
        }
      ]
    },
    {
      "cell_type": "code",
      "source": [
        "# Evaluate the loss (by loss)\n",
        "result = model.evaluate(X_val, y_val, batch_size = 64)\n",
        "print(result)"
      ],
      "metadata": {
        "colab": {
          "base_uri": "https://localhost:8080/"
        },
        "id": "Dgn7vo8PgcO3",
        "outputId": "2e92723a-4736-4338-8498-0d2263244527"
      },
      "execution_count": 16,
      "outputs": [
        {
          "output_type": "stream",
          "name": "stdout",
          "text": [
            "70/70 [==============================] - 1s 8ms/step - loss: 5.8037e-05 - mse: 5.8037e-05 - mae: 0.0034\n",
            "[5.803662133985199e-05, 5.803662133985199e-05, 0.003380700247362256]\n"
          ]
        }
      ]
    },
    {
      "cell_type": "code",
      "source": [
        "# Prediction\n",
        "pred_train = model.predict(X_train)\n",
        "pred_val = model.predict(X_val)"
      ],
      "metadata": {
        "id": "KGRPKtJXNYTC"
      },
      "execution_count": 13,
      "outputs": []
    },
    {
      "cell_type": "code",
      "source": [
        "# Plot Prediction and real\n",
        "\n",
        "# plot Training\n",
        "\n",
        "plt.plot(y_train)\n",
        "plt.plot(pred_train)\n",
        "plt.show()\n",
        "\n",
        "# plot Val\n",
        "\n",
        "plt.plot(y_val)\n",
        "plt.plot(pred_val)\n",
        "plt.show()"
      ],
      "metadata": {
        "id": "S_rwi7RakZdm",
        "colab": {
          "base_uri": "https://localhost:8080/",
          "height": 513
        },
        "outputId": "0e2d0b34-6c5a-4740-ea71-e42770bfe58e"
      },
      "execution_count": 14,
      "outputs": [
        {
          "output_type": "display_data",
          "data": {
            "text/plain": [
              "<Figure size 432x288 with 1 Axes>"
            ],
            "image/png": "[encoded data removed]"
          },
          "metadata": {
            "needs_background": "light"
          }
        },
        {
          "output_type": "display_data",
          "data": {
            "text/plain": [
              "<Figure size 432x288 with 1 Axes>"
            ],
            "image/png": "[encoded data removed]"
          },
          "metadata": {
            "needs_background": "light"
          }
        }
      ]
    },
    {
      "cell_type": "markdown",
      "source": [
        "# Note and To do"
      ],
      "metadata": {
        "id": "EecHwPn22TE3"
      }
    },
    {
      "cell_type": "code",
      "source": [
        "# Try not normalize but make it stationary. I think that's more reasonable."
      ],
      "metadata": {
        "id": "5mFi_xjh2doK"
      },
      "execution_count": null,
      "outputs": []
    }
  ]
}
